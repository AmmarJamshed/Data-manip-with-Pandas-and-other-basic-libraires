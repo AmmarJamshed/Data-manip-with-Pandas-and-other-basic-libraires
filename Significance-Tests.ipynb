{
 "cells": [
  {
   "cell_type": "markdown",
   "metadata": {},
   "source": [
    "## Import Libraries"
   ]
  },
  {
   "cell_type": "code",
   "execution_count": null,
   "metadata": {},
   "outputs": [],
   "source": [
    "from random import randrange\n",
    "import pandas as pd\n",
    "import numpy as np\n",
    "from scipy.stats import ttest_ind\n",
    "from scipy.stats import ttest_1samp\n",
    "from scipy.stats import chi2_contingency\n",
    "from scipy.stats import f_oneway\n",
    "from statsmodels.stats.power import TTestIndPower"
   ]
  },
  {
   "cell_type": "markdown",
   "metadata": {},
   "source": [
    "## One-way One Sample t-Test (team height example from the slides in topic 4 part 2)"
   ]
  },
  {
   "cell_type": "code",
   "execution_count": null,
   "metadata": {},
   "outputs": [],
   "source": [
    "## generate some heights for 18 players in our team\n",
    "## Notice that your results can be different as we're generating random numbers\n",
    "team_heights = []\n",
    "for i in range(18):\n",
    "    team_heights.append(randrange(180,205))\n",
    "\n",
    "print(team_heights)\n",
    "print(f\"Average player height in our team = {np.mean(team_heights):.5f}\")\n",
    "print(f\"STD of player height in our team = {np.std(team_heights):.5f}\")"
   ]
  },
  {
   "cell_type": "code",
   "execution_count": null,
   "metadata": {},
   "outputs": [],
   "source": [
    "## popmean is the mean player height in the league as was explained in the lecture\n",
    "tscore, pvalue = ttest_1samp(team_heights, popmean=201)\n",
    "print(\"t Statistic: \", tscore)  \n",
    "print(f'p-value for single sided test: {pvalue / 2:.5f}')"
   ]
  },
  {
   "cell_type": "markdown",
   "metadata": {},
   "source": [
    "## One-way Two Sample t-Test (Sleep apnoea events example from the slides in topic 4 part 2)"
   ]
  },
  {
   "cell_type": "code",
   "execution_count": null,
   "metadata": {},
   "outputs": [],
   "source": [
    "## generate some numbers for people who followed the diet\n",
    "## Notice that your results can be different as we're generating random numbers\n",
    "diet = []\n",
    "for i in range(13):\n",
    "    diet.append(randrange(3,9))\n",
    "print(diet)"
   ]
  },
  {
   "cell_type": "code",
   "execution_count": null,
   "metadata": {},
   "outputs": [],
   "source": [
    "## generate some numbers for people who did not follow the diet\n",
    "## Notice that your results can be different as we're generating random numbers\n",
    "nodiet = []\n",
    "for i in range(14):\n",
    "    nodiet.append(randrange(4,10))\n",
    "print(nodiet)"
   ]
  },
  {
   "cell_type": "code",
   "execution_count": null,
   "metadata": {},
   "outputs": [],
   "source": [
    "## Run the t-test and extract the p-value\n",
    "## We divide the resulting p-value by 2 beause this is a single-sided t-test\n",
    "## Please read the documentation of the ttest_ind function\n",
    "res = ttest_ind(diet, nodiet, equal_var=False)\n",
    "print(f'p-value for single sided test: {res.pvalue / 2:.5f}')"
   ]
  },
  {
   "cell_type": "markdown",
   "metadata": {},
   "source": [
    "## One-way ANOVA for multiple groups\n",
    "https://docs.scipy.org/doc/scipy/reference/generated/scipy.stats.f_oneway.html\n",
    "\n",
    "Data from: http://www.biostathandbook.com/onewayanova.html"
   ]
  },
  {
   "cell_type": "code",
   "execution_count": null,
   "metadata": {},
   "outputs": [],
   "source": [
    "tillamook = [0.0571, 0.0813, 0.0831, 0.0976, 0.0817, 0.0859, 0.0735,\n",
    "             0.0659, 0.0923, 0.0836]\n",
    "newport = [0.0873, 0.0662, 0.0672, 0.0819, 0.0749, 0.0649, 0.0835,\n",
    "           0.0725]\n",
    "petersburg = [0.0974, 0.1352, 0.0817, 0.1016, 0.0968, 0.1064, 0.105]\n",
    "magadan = [0.1033, 0.0915, 0.0781, 0.0685, 0.0677, 0.0697, 0.0764,\n",
    "           0.0689]\n",
    "tvarminne = [0.0703, 0.1026, 0.0956, 0.0973, 0.1039, 0.1045]\n",
    "res = f_oneway(tillamook, newport, petersburg, magadan, tvarminne)\n",
    "print(f'p-value for one-sided ANOVA : {res.pvalue :.5f}')"
   ]
  },
  {
   "cell_type": "markdown",
   "metadata": {},
   "source": [
    "## Chi-square test"
   ]
  },
  {
   "cell_type": "code",
   "execution_count": null,
   "metadata": {},
   "outputs": [],
   "source": [
    "a1 = [8, 6, 6, 4]\n",
    "a2 = [6, 6, 6, 6]\n",
    "a3 = [4, 5, 5, 7]\n",
    "a4 = [5, 6, 6, 7]\n",
    "a5 = [7, 7, 5, 4]\n",
    "a6 = [5, 5, 7, 7]\n",
    "dice = np.array([a1, a2, a3, a4, a5, a6])\n",
    "df = pd.DataFrame(dice, columns=['Exp1','Exp2','Exp3','Exp4'])\n",
    "df.index = ['One','Two','Three','Four','Five','Six']\n",
    "#df.sum(axis=1)"
   ]
  },
  {
   "cell_type": "code",
   "execution_count": null,
   "metadata": {},
   "outputs": [],
   "source": [
    "df"
   ]
  },
  {
   "cell_type": "code",
   "execution_count": null,
   "metadata": {},
   "outputs": [],
   "source": [
    "chi2_stat, p_val, dof, ct = chi2_contingency(dice)\n",
    "print(\"Chi2 Stat = \", chi2_stat)\n",
    "\n",
    "print(\"Degrees of Freedom =\", dof)\n",
    "\n",
    "print(\"p-value =\", p_val)\n",
    "\n",
    "print(\"Contingency Table:\")\n",
    "print(ct)"
   ]
  },
  {
   "cell_type": "markdown",
   "metadata": {},
   "source": [
    "## Power Analysis\n",
    "\n",
    "* Effect Size: The minimum size of the effect that you hope to be able to detect in a statistical test, such as “a 20% improvement in click rates”.\n",
    "* Statistical Power: The probability of detecting a given effect size with a given sample size (i.e. The probability of accepting the alternative hypothesis if it is true).\n",
    "* Sample Size: The number of observations in the sample.\n",
    "* Significance level: The statistical significance level at which the test will be conducted (e.g. alpha. which is often set to 5% or 0.05).\n"
   ]
  },
  {
   "cell_type": "code",
   "execution_count": null,
   "metadata": {},
   "outputs": [],
   "source": [
    "# estimate required sample size using power analysis\n",
    "# parameters for power analysis\n",
    "effect = 0.88\n",
    "power = 0.85\n",
    "alpha = 0.05\n",
    "\n",
    "# perform power analysis\n",
    "pow_analysis = TTestIndPower()\n",
    "result = pow_analysis.solve_power(effect, power=power, alpha=alpha)\n",
    "\n",
    "print(f'Sample Size: {result:.2f}')"
   ]
  },
  {
   "cell_type": "code",
   "execution_count": null,
   "metadata": {},
   "outputs": [],
   "source": []
  }
 ],
 "metadata": {
  "kernelspec": {
   "display_name": "Python 3",
   "language": "python",
   "name": "python3"
  },
  "language_info": {
   "codemirror_mode": {
    "name": "ipython",
    "version": 3
   },
   "file_extension": ".py",
   "mimetype": "text/x-python",
   "name": "python",
   "nbconvert_exporter": "python",
   "pygments_lexer": "ipython3",
   "version": "3.7.6"
  }
 },
 "nbformat": 4,
 "nbformat_minor": 4
}
