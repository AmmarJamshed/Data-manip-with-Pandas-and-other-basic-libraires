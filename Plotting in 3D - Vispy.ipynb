{
 "cells": [
  {
   "cell_type": "code",
   "execution_count": null,
   "metadata": {},
   "outputs": [],
   "source": [
    "%matplotlib inline"
   ]
  },
  {
   "cell_type": "code",
   "execution_count": null,
   "metadata": {},
   "outputs": [],
   "source": [
    "import numpy as np\n",
    "import matplotlib as mpl\n",
    "import matplotlib.pyplot as plt\n",
    "import vispy\n",
    "from vispy import app, visuals, scene\n",
    "from vispy.visuals.transforms import STTransform\n",
    "from vispy.util.filter import gaussian_filter\n",
    "\n",
    "print(vispy.sys_info())"
   ]
  },
  {
   "cell_type": "markdown",
   "metadata": {},
   "source": [
    "# 3D line with Matplotlib and VisPy"
   ]
  },
  {
   "cell_type": "code",
   "execution_count": null,
   "metadata": {},
   "outputs": [],
   "source": [
    "# Prepare data.\n",
    "n = 60\n",
    "x = np.sin(np.linspace(-2, 2, n) * np.pi)\n",
    "y = np.cos(np.linspace(-2, 2, n) * np.pi)\n",
    "z = np.linspace(-2, 2, n)\n",
    "\n",
    "# Create a matplotlib figure manually.\n",
    "fig = plt.figure()\n",
    "\n",
    "# Add a 3D axes subplot.\n",
    "ax = fig.add_subplot(projection='3d')\n",
    "ax.plot(x, y, z)\n",
    "plt.show()"
   ]
  },
  {
   "cell_type": "code",
   "execution_count": null,
   "metadata": {},
   "outputs": [],
   "source": [
    "# Prepare data.\n",
    "n = 60\n",
    "x = np.sin(np.linspace(-2, 2, n) * np.pi)\n",
    "y = np.cos(np.linspace(-2, 2, n) * np.pi)\n",
    "z = np.linspace(-2, 2, n)\n",
    "\n",
    "# Combine x, y and z into a numpy matrix. \n",
    "pos = np.c_[x, y, z]\n",
    "\n",
    "# Build visuals.\n",
    "Plot3D = scene.visuals.create_visual_node(visuals.LinePlotVisual)\n",
    "\n",
    "# Build canvas.\n",
    "canvas = scene.SceneCanvas(keys='interactive', title='plot3d')\n",
    "\n",
    "# Add a ViewBox to let the user zoom/rotate.\n",
    "view = canvas.central_widget.add_view()\n",
    "view.camera = 'turntable'\n",
    "view.camera.fov = 45\n",
    "view.camera.distance = 6\n",
    "\n",
    "# Plot.\n",
    "Plot3D(pos, width=2.0, color='red',\n",
    "       edge_color='w', symbol='o', face_color=(0.2, 0.2, 1, 0.8),\n",
    "       parent=view.scene)\n",
    "canvas.show()\n",
    "app.run()"
   ]
  },
  {
   "cell_type": "markdown",
   "metadata": {},
   "source": [
    "# 3D surface with Matplotlib and VisPy"
   ]
  },
  {
   "cell_type": "code",
   "execution_count": null,
   "metadata": {},
   "outputs": [],
   "source": [
    "# https://matplotlib.org/gallery/mplot3d/surface3d.html\n",
    "fig = plt.figure(figsize=(6, 6))\n",
    "ax = fig.add_subplot(projection='3d')\n",
    "\n",
    "# Make data.\n",
    "x = np.arange(-5, 5, 0.25)\n",
    "y = np.arange(-5, 5, 0.25)\n",
    "\n",
    "# Combine coordinate vectors into coordinate matrices.\n",
    "xx, yy = np.meshgrid(x, y)\n",
    "\n",
    "# Compute the surface equation.\n",
    "r = np.sqrt(xx**2 + yy**2)\n",
    "z = np.sin(r)\n",
    "\n",
    "# Plot the surface.\n",
    "surf = ax.plot_surface(xx, yy, z, cmap=mpl.cm.coolwarm)\n",
    "\n",
    "# Customize the z axis.\n",
    "ax.set_zlim(-1, 1)\n",
    "\n",
    "plt.show()"
   ]
  },
  {
   "cell_type": "code",
   "execution_count": null,
   "metadata": {},
   "outputs": [],
   "source": [
    "# Prepare the data.\n",
    "n = 250\n",
    "x = np.linspace(-5, 5, n)\n",
    "y = np.linspace(-5, 5, n)\n",
    "x, y = np.meshgrid(x, y)\n",
    "r = np.sqrt(x**2 + y**2)\n",
    "z = np.sin(r) * 100\n",
    "\n",
    "# Build the canvas.\n",
    "canvas = scene.SceneCanvas(keys='interactive', bgcolor='w')\n",
    "\n",
    "# Set up the camera.\n",
    "view = canvas.central_widget.add_view()\n",
    "view.camera = scene.TurntableCamera(up='z', fov=60, scale_factor=2)\n",
    "\n",
    "# Build the visuals.\n",
    "p1 = scene.visuals.SurfacePlot(z=z, color=(0.3, 0.3, 1, 1))\n",
    "p1.transform = scene.transforms.MatrixTransform()\n",
    "p1.transform.scale([1/249., 1/249., 1/249.])\n",
    "p1.transform.translate([-0.5, -0.5, 0])\n",
    "view.add(p1)\n",
    "xax = scene.Axis(pos=[[-0.5, -0.5], [0.5, -0.5]], tick_direction=(0, -1),\n",
    "                 font_size=16, axis_color='k', tick_color='k', text_color='k',\n",
    "                 parent=view.scene, axis_label='x')\n",
    "xax.transform = scene.STTransform(translate=(0, 0, -0.2))\n",
    "yax = scene.Axis(pos=[[-0.5, -0.5], [-0.5, 0.5]], tick_direction=(-1, 0),\n",
    "                 font_size=16, axis_color='k', tick_color='k', text_color='k',\n",
    "                 parent=view.scene, axis_label='y')\n",
    "yax.transform = scene.STTransform(translate=(0, 0, -0.2))\n",
    "\n",
    "# Add a 3D axis to keep us oriented.\n",
    "axis = scene.visuals.XYZAxis(parent=view.scene)\n",
    "\n",
    "canvas.show()\n",
    "app.run()"
   ]
  }
 ],
 "metadata": {
  "kernelspec": {
   "display_name": "Python 3",
   "language": "python",
   "name": "python3"
  },
  "language_info": {
   "codemirror_mode": {
    "name": "ipython",
    "version": 3
   },
   "file_extension": ".py",
   "mimetype": "text/x-python",
   "name": "python",
   "nbconvert_exporter": "python",
   "pygments_lexer": "ipython3",
   "version": "3.9.1"
  }
 },
 "nbformat": 4,
 "nbformat_minor": 4
}
