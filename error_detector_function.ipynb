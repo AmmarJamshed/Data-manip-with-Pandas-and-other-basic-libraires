{
  "nbformat": 4,
  "nbformat_minor": 0,
  "metadata": {
    "colab": {
      "name": "error detector function.ipynb",
      "provenance": []
    },
    "kernelspec": {
      "name": "python3",
      "display_name": "Python 3"
    },
    "language_info": {
      "name": "python"
    }
  },
  "cells": [
    {
      "cell_type": "code",
      "execution_count": 18,
      "metadata": {
        "id": "fvvZVOc0qEPn"
      },
      "outputs": [],
      "source": [
        "def accurate(x):\n",
        "  if x is \"Null\":\n",
        "    return \"Incorrect values detected\"\n",
        "  elif x != int:\n",
        "    return \"Not possible to use\"\n",
        "  else:\n",
        "    return \"Fuck off Mother fucker\""
      ]
    },
    {
      "cell_type": "code",
      "source": [
        "accurate(-1)"
      ],
      "metadata": {
        "colab": {
          "base_uri": "https://localhost:8080/",
          "height": 35
        },
        "id": "d_W-zNMLqpJS",
        "outputId": "1d1db4dc-fcaa-4db4-a675-8e7fdcdd2e6d"
      },
      "execution_count": 19,
      "outputs": [
        {
          "output_type": "execute_result",
          "data": {
            "application/vnd.google.colaboratory.intrinsic+json": {
              "type": "string"
            },
            "text/plain": [
              "'Not possible to use'"
            ]
          },
          "metadata": {},
          "execution_count": 19
        }
      ]
    },
    {
      "cell_type": "code",
      "source": [
        "accurate('Null')"
      ],
      "metadata": {
        "colab": {
          "base_uri": "https://localhost:8080/",
          "height": 35
        },
        "id": "zReFaKinrPOP",
        "outputId": "7053361d-c3c0-4074-8f87-f69a30451a7b"
      },
      "execution_count": 20,
      "outputs": [
        {
          "output_type": "execute_result",
          "data": {
            "application/vnd.google.colaboratory.intrinsic+json": {
              "type": "string"
            },
            "text/plain": [
              "'Incorrect values detected'"
            ]
          },
          "metadata": {},
          "execution_count": 20
        }
      ]
    }
  ]
}