{
 "cells": [
  {
   "cell_type": "code",
   "execution_count": 5,
   "metadata": {},
   "outputs": [],
   "source": [
    "sean_json = \"\"\"\n",
    "{\"name\":\"Ammar Jamshed\",\n",
    " \"languages\":[\"english\", \"urdu\", \"japanese\"],\n",
    " \"qual\": [\"Bsc\", \"Diploma\",\"Msc\"],\n",
    " \"students\": [{\"name\": \"aj\", \"qual\":[\"bsc\",\"ccna\"]},\n",
    "              {\"name\": \"ajj\", \"qual\":[\"btech\",\"msc\",\"cert\"]}]\n",
    "}\n",
    "\"\"\""
   ]
  },
  {
   "cell_type": "code",
   "execution_count": 6,
   "metadata": {},
   "outputs": [
    {
     "name": "stdout",
     "output_type": "stream",
     "text": [
      "{\"name\": \"Ammar Jamshed\", \"languages\": [\"english\", \"urdu\", \"japanese\"], \"qual\": [\"Bsc\", \"Diploma\", \"Msc\"], \"students\": [{\"name\": \"aj\", \"qual\": [\"bsc\", \"ccna\"]}, {\"name\": \"ajj\", \"qual\": [\"btech\", \"msc\", \"cert\"]}]}\n"
     ]
    }
   ],
   "source": [
    "import json as js\n",
    "mydata = js.loads(sean_json)\n",
    "print(js.dumps(mydata))"
   ]
  },
  {
   "cell_type": "code",
   "execution_count": null,
   "metadata": {},
   "outputs": [],
   "source": []
  }
 ],
 "metadata": {
  "kernelspec": {
   "display_name": "Python 3",
   "language": "python",
   "name": "python3"
  },
  "language_info": {
   "codemirror_mode": {
    "name": "ipython",
    "version": 3
   },
   "file_extension": ".py",
   "mimetype": "text/x-python",
   "name": "python",
   "nbconvert_exporter": "python",
   "pygments_lexer": "ipython3",
   "version": "3.8.5"
  }
 },
 "nbformat": 4,
 "nbformat_minor": 4
}
