{
 "cells": [
  {
   "cell_type": "code",
   "execution_count": 4,
   "metadata": {},
   "outputs": [
    {
     "name": "stderr",
     "output_type": "stream",
     "text": [
      "E\n",
      "======================================================================\n",
      "ERROR: v (unittest.loader._FailedTest)\n",
      "----------------------------------------------------------------------\n",
      "AttributeError: module '__main__' has no attribute 'v'\n",
      "\n",
      "----------------------------------------------------------------------\n",
      "Ran 1 test in 0.001s\n",
      "\n",
      "FAILED (errors=1)\n"
     ]
    },
    {
     "data": {
      "text/plain": [
       "<unittest.main.TestProgram at 0x7fbdf86a24c0>"
      ]
     },
     "execution_count": 4,
     "metadata": {},
     "output_type": "execute_result"
    }
   ],
   "source": [
    "import unittest\n",
    "import os\n",
    "\n",
    "def get_files_in_dir(dir_name):\n",
    "    if os.path.exists(dir_name)== False:\n",
    "        return None\n",
    "    if os.path.isfile(dir_name):\n",
    "        return None\n",
    "    files = os.listdir(dir_name)\n",
    "    \n",
    "    return []\n",
    "\n",
    "class TestListFiles(unittest.TestCase):\n",
    "    def test_list_xists(self):\n",
    "        self.assertIsNotNone(get_files_in_dir)\n",
    "        \n",
    "    def test_returns_list(self):\n",
    "        res = get_files_in_dir(\"/\")\n",
    "        self.assertEqual( type(res), list)\n",
    "        \n",
    "    def test_nonexistent(self):\n",
    "        res = get_files_in_dir(\"/i/do/not/exist\")\n",
    "        self.assertIsNone(res)\n",
    "        \n",
    "    def test_nofilenames(self):\n",
    "        res = get_files_in_dir(\"./test_files/test1.txt\")\n",
    "        self.assertIsNone(res)\n",
    "\n",
    "    def test_get_two(self):\n",
    "        res = get_files_in_dir(\"./test_files/\",\"txt\")\n",
    "        self.assertIsNone(len(res), 2)        \n",
    "        \n",
    "    def test_filter_to_two(self):\n",
    "        res = get_files_in_dir(\"./test_files/\")\n",
    "        self.assertIsNone(len(res), 2)   \n",
    "        \n",
    "unittest.main(argv=['ignored', 'v'], exit=False)"
   ]
  },
  {
   "cell_type": "code",
   "execution_count": 5,
   "metadata": {},
   "outputs": [
    {
     "data": {
      "text/plain": [
       "False"
      ]
     },
     "execution_count": 5,
     "metadata": {},
     "output_type": "execute_result"
    }
   ],
   "source": [
    "s = \"test.txt\"\n",
    "s.endswith(\"html\")"
   ]
  }
 ],
 "metadata": {
  "kernelspec": {
   "display_name": "Python 3",
   "language": "python",
   "name": "python3"
  },
  "language_info": {
   "codemirror_mode": {
    "name": "ipython",
    "version": 3
   },
   "file_extension": ".py",
   "mimetype": "text/x-python",
   "name": "python",
   "nbconvert_exporter": "python",
   "pygments_lexer": "ipython3",
   "version": "3.8.5"
  }
 },
 "nbformat": 4,
 "nbformat_minor": 4
}
