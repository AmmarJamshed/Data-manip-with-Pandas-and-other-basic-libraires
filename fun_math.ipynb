{
  "nbformat": 4,
  "nbformat_minor": 0,
  "metadata": {
    "colab": {
      "name": "fun math.ipynb",
      "provenance": []
    },
    "kernelspec": {
      "name": "python3",
      "display_name": "Python 3"
    },
    "language_info": {
      "name": "python"
    }
  },
  "cells": [
    {
      "cell_type": "code",
      "execution_count": null,
      "metadata": {
        "id": "xcOe8Q4qZbXm"
      },
      "outputs": [],
      "source": [
        "def cal_max_eff(x):\n",
        "  if x >= 0:\n",
        "    return 5**x/7**x/2\n",
        "  else:\n",
        "    return False"
      ]
    },
    {
      "cell_type": "code",
      "source": [
        "cal_max_eff(5)"
      ],
      "metadata": {
        "colab": {
          "base_uri": "https://localhost:8080/"
        },
        "id": "wlpI8Rb3Zy5K",
        "outputId": "c9f7e6d4-8cb6-4316-a2d4-c137888c9707"
      },
      "execution_count": null,
      "outputs": [
        {
          "output_type": "execute_result",
          "data": {
            "text/plain": [
              "0.09296721604093533"
            ]
          },
          "metadata": {},
          "execution_count": 4
        }
      ]
    },
    {
      "cell_type": "code",
      "source": [
        "x = int(input('Age: '))\n",
        "y = str(input('name: '))\n",
        "if x > 30:\n",
        "  print(y+' '+'is a bloody foool')\n",
        "elif x < 30:\n",
        "  print(y+' '+'Is a genius')"
      ],
      "metadata": {
        "colab": {
          "base_uri": "https://localhost:8080/"
        },
        "id": "DDuq-xd_aCTD",
        "outputId": "52ad07f6-5b0a-4dd6-abdf-1cf2678c225a"
      },
      "execution_count": null,
      "outputs": [
        {
          "output_type": "stream",
          "name": "stdout",
          "text": [
            "Age: 24\n",
            "name: Ammar\n",
            "Ammar Is a genius\n"
          ]
        }
      ]
    },
    {
      "cell_type": "code",
      "source": [
        ""
      ],
      "metadata": {
        "id": "2QeNOgSEamC4"
      },
      "execution_count": null,
      "outputs": []
    }
  ]
}