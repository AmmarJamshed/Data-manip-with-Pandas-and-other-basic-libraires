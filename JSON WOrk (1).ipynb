{
 "cells": [
  {
   "cell_type": "code",
   "execution_count": 7,
   "metadata": {},
   "outputs": [],
   "source": [
    "sean_json = \"\"\"\n",
    "{\"name\":\"Ammar Jamshed\",\n",
    " \"languages\":[\"english\", \"urdu\", \"japanese\"],\n",
    " \"qual\": [\"Bsc\", \"Diploma\",\"Msc\"],\n",
    " \"students\": [{\"name\": \"aj\", \"qual\":[\"bsc\",\"ccna\"]},\n",
    "              {\"name\": \"ajj\", \"qual\":[\"btech\",\"msc\",\"cert\"]}]\n",
    "}\n",
    "\"\"\""
   ]
  },
  {
   "cell_type": "code",
   "execution_count": 8,
   "metadata": {},
   "outputs": [
    {
     "name": "stdout",
     "output_type": "stream",
     "text": [
      "{\"name\": \"Ammar Jamshed\", \"languages\": [\"english\", \"urdu\", \"japanese\"], \"qual\": [\"Bsc\", \"Diploma\", \"Msc\"], \"students\": [{\"name\": \"aj\", \"qual\": [\"bsc\", \"ccna\"]}, {\"name\": \"ajj\", \"qual\": [\"btech\", \"msc\", \"cert\"]}]}\n"
     ]
    }
   ],
   "source": [
    "import json as js\n",
    "mydata = js.loads(sean_json)\n",
    "print(js.dumps(mydata))"
   ]
  },
  {
   "cell_type": "code",
   "execution_count": 9,
   "metadata": {},
   "outputs": [
    {
     "data": {
      "text/html": [
       "<div>\n",
       "<style scoped>\n",
       "    .dataframe tbody tr th:only-of-type {\n",
       "        vertical-align: middle;\n",
       "    }\n",
       "\n",
       "    .dataframe tbody tr th {\n",
       "        vertical-align: top;\n",
       "    }\n",
       "\n",
       "    .dataframe thead th {\n",
       "        text-align: right;\n",
       "    }\n",
       "</style>\n",
       "<table border=\"1\" class=\"dataframe\">\n",
       "  <thead>\n",
       "    <tr style=\"text-align: right;\">\n",
       "      <th></th>\n",
       "      <th>name</th>\n",
       "      <th>qual</th>\n",
       "    </tr>\n",
       "  </thead>\n",
       "  <tbody>\n",
       "    <tr>\n",
       "      <th>0</th>\n",
       "      <td>aj</td>\n",
       "      <td>[bsc, ccna]</td>\n",
       "    </tr>\n",
       "    <tr>\n",
       "      <th>1</th>\n",
       "      <td>ajj</td>\n",
       "      <td>[btech, msc, cert]</td>\n",
       "    </tr>\n",
       "  </tbody>\n",
       "</table>\n",
       "</div>"
      ],
      "text/plain": [
       "  name                qual\n",
       "0   aj         [bsc, ccna]\n",
       "1  ajj  [btech, msc, cert]"
      ]
     },
     "execution_count": 9,
     "metadata": {},
     "output_type": "execute_result"
    }
   ],
   "source": [
    "import pandas as pd \n",
    "student_data = pd.DataFrame(mydata['students'], columns=['name','qual'])\n",
    "student_data"
   ]
  },
  {
   "cell_type": "code",
   "execution_count": 12,
   "metadata": {},
   "outputs": [],
   "source": [
    "# convert to CSV\n",
    "student_data.to_csv('students.csv')"
   ]
  }
 ],
 "metadata": {
  "kernelspec": {
   "display_name": "Python 3",
   "language": "python",
   "name": "python3"
  },
  "language_info": {
   "codemirror_mode": {
    "name": "ipython",
    "version": 3
   },
   "file_extension": ".py",
   "mimetype": "text/x-python",
   "name": "python",
   "nbconvert_exporter": "python",
   "pygments_lexer": "ipython3",
   "version": "3.8.5"
  }
 },
 "nbformat": 4,
 "nbformat_minor": 4
}
