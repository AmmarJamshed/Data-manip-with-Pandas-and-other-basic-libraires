{
  "nbformat": 4,
  "nbformat_minor": 0,
  "metadata": {
    "colab": {
      "provenance": [],
      "authorship_tag": "ABX9TyPCx+HLokkggZoLysbgawY9",
      "include_colab_link": true
    },
    "kernelspec": {
      "name": "python3",
      "display_name": "Python 3"
    },
    "language_info": {
      "name": "python"
    }
  },
  "cells": [
    {
      "cell_type": "markdown",
      "metadata": {
        "id": "view-in-github",
        "colab_type": "text"
      },
      "source": [
        "<a href=\"https://colab.research.google.com/github/AmmarJamshed/Data-manip-with-Pandas-and-other-basic-libraires/blob/main/doc_generate.ipynb\" target=\"_parent\"><img src=\"https://colab.research.google.com/assets/colab-badge.svg\" alt=\"Open In Colab\"/></a>"
      ]
    },
    {
      "cell_type": "code",
      "execution_count": 8,
      "metadata": {
        "colab": {
          "base_uri": "https://localhost:8080/"
        },
        "id": "geL5LqLiN3Wr",
        "outputId": "3810af32-c587-4fde-adf9-e26b8ed9896a"
      },
      "outputs": [
        {
          "output_type": "stream",
          "name": "stdout",
          "text": [
            "Document generated successfully!\n"
          ]
        }
      ],
      "source": [
        "# Attempting to regenerate the document from scratch and save it again\n",
        "from docx import Document\n",
        "\n",
        "# Create a new Word Document\n",
        "doc = Document()\n",
        "\n",
        "# Title\n",
        "doc.add_heading('Mid-Term Exam Questions with Solutions', 0)\n",
        "\n",
        "# Question 1\n",
        "doc.add_heading('Question 1: Calculate the Manhattan Distance on a Grid', level=1)\n",
        "doc.add_paragraph(\n",
        "    \"Problem: Given a grid where you can only move up, down, left, or right (no diagonal moves), \"\n",
        "    \"calculate the Manhattan Distance between two points A(2, 3) and B(5, 1).\"\n",
        ")\n",
        "doc.add_heading('Solution:', level=2)\n",
        "doc.add_paragraph(\n",
        "    \"The Manhattan Distance between two points A(x1, y1) and B(x2, y2) is calculated as:\\n\"\n",
        "    \"Manhattan Distance = |x1 - x2| + |y1 - y2|\\n\"\n",
        "    \"For points A(2, 3) and B(5, 1):\\n\"\n",
        "    \"Manhattan Distance = |2 - 5| + |3 - 1| = 3 + 2 = 5\\n\"\n",
        "    \"So, the Manhattan Distance is 5.\"\n",
        ")\n",
        "\n",
        "# Question 2\n",
        "doc.add_heading('Question 2: Calculate the Euclidean Distance Between Two Points', level=1)\n",
        "doc.add_paragraph(\n",
        "    \"Problem: Find the Euclidean Distance between two points A(2, 3) and B(6, 7) on a 2D plane.\"\n",
        ")\n",
        "doc.add_heading('Solution:', level=2)\n",
        "doc.add_paragraph(\n",
        "    \"The Euclidean Distance between two points A(x1, y1) and B(x2, y2) is given by:\\n\"\n",
        "    \"Euclidean Distance = √((x1 - x2)^2 + (y1 - y2)^2)\\n\"\n",
        "    \"For points A(2, 3) and B(6, 7):\\n\"\n",
        "    \"Euclidean Distance = √((2 - 6)^2 + (3 - 7)^2) = √((-4)^2 + (-4)^2) = √(16 + 16) = √32 = 5.66\\n\"\n",
        "    \"The Euclidean Distance is approximately 5.66.\"\n",
        ")\n",
        "\n",
        "# Question 3\n",
        "doc.add_heading('Question 3: Find the Shortest Path in a Weighted Graph Using A*', level=1)\n",
        "doc.add_paragraph(\n",
        "    \"Problem: Consider the following graph, where each edge has a weight representing the distance between nodes. \"\n",
        "    \"The heuristic values (estimated distances to the goal) for each node are provided. \"\n",
        "    \"Find the shortest path from Node A to Node G using the A* algorithm.\"\n",
        ")\n",
        "doc.add_paragraph(\n",
        "    \"Graph:\\n\"\n",
        "    \"A --(3)--> B --(2)--> D --(1)--> G\\n\"\n",
        "    \"A --(1)--> C --(5)--> D\\n\"\n",
        "    \"C --(2)--> E --(4)--> G\\n\\n\"\n",
        "    \"Heuristic Values:\\n\"\n",
        "    \"- h(A) = 7\\n\"\n",
        "    \"- h(B) = 4\\n\"\n",
        "    \"- h(C) = 6\\n\"\n",
        "    \"- h(D) = 2\\n\"\n",
        "    \"- h(E) = 5\\n\"\n",
        "    \"- h(G) = 0\\n\"\n",
        ")\n",
        "doc.add_heading('Solution:', level=2)\n",
        "doc.add_paragraph(\n",
        "    \"We use the A* algorithm, where f(n) = g(n) + h(n), to find the shortest path.\\n\\n\"\n",
        "    \"1. Start at Node A:\\n\"\n",
        "    \"f(A) = g(A) + h(A) = 0 + 7 = 7\\n\\n\"\n",
        "    \"2. Expand Node A:\\n\"\n",
        "    \"- Path A -> B: g(B) = g(A) + 3 = 3, so f(B) = 3 + 4 = 7\\n\"\n",
        "    \"- Path A -> C: g(C) = g(A) + 1 = 1, so f(C) = 1 + 6 = 7\\n\\n\"\n",
        "    \"3. Expand Node C:\\n\"\n",
        "    \"- Path C -> D: g(D) = g(C) + 5 = 6, so f(D) = 6 + 2 = 8\\n\"\n",
        "    \"- Path C -> E: g(E) = g(C) + 2 = 3, so f(E) = 3 + 5 = 8\\n\\n\"\n",
        "    \"4. Expand Node B:\\n\"\n",
        "    \"- Path B -> D: g(D) = g(B) + 2 = 5, so f(D) = 5 + 2 = 7 (better than previous f(D) = 8)\\n\\n\"\n",
        "    \"5. Expand Node D:\\n\"\n",
        "    \"- Path D -> G: g(G) = g(D) + 1 = 6, so f(G) = 6 + 0 = 6\\n\\n\"\n",
        "    \"6. Goal Reached: The shortest path from A to G is A -> B -> D -> G with a total cost of 6.\"\n",
        ")\n",
        "# Save the document\n",
        "doc.save('Mid_Term_Exam_Questions_Solutions.docx')\n",
        "\n",
        "print(\"Document generated successfully!\")"
      ]
    },
    {
      "cell_type": "code",
      "source": [
        "pip install python-docx\n"
      ],
      "metadata": {
        "colab": {
          "base_uri": "https://localhost:8080/"
        },
        "id": "7D0QiY3bN4Z_",
        "outputId": "6a695c34-8a23-453a-b727-272da3c1674e"
      },
      "execution_count": 5,
      "outputs": [
        {
          "output_type": "stream",
          "name": "stdout",
          "text": [
            "Collecting python-docx\n",
            "  Downloading python_docx-1.1.2-py3-none-any.whl.metadata (2.0 kB)\n",
            "Requirement already satisfied: lxml>=3.1.0 in /usr/local/lib/python3.10/dist-packages (from python-docx) (4.9.4)\n",
            "Requirement already satisfied: typing-extensions>=4.9.0 in /usr/local/lib/python3.10/dist-packages (from python-docx) (4.12.2)\n",
            "Downloading python_docx-1.1.2-py3-none-any.whl (244 kB)\n",
            "\u001b[2K   \u001b[90m━━━━━━━━━━━━━━━━━━━━━━━━━━━━━━━━━━━━━━━━\u001b[0m \u001b[32m244.3/244.3 kB\u001b[0m \u001b[31m3.7 MB/s\u001b[0m eta \u001b[36m0:00:00\u001b[0m\n",
            "\u001b[?25hInstalling collected packages: python-docx\n",
            "Successfully installed python-docx-1.1.2\n"
          ]
        }
      ]
    },
    {
      "cell_type": "code",
      "source": [],
      "metadata": {
        "id": "qrLgEPbxN_hv"
      },
      "execution_count": null,
      "outputs": []
    }
  ]
}