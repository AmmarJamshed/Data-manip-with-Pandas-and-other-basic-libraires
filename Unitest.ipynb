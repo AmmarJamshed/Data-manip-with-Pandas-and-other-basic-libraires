{
 "cells": [
  {
   "cell_type": "code",
   "execution_count": 1,
   "metadata": {},
   "outputs": [
    {
     "name": "stderr",
     "output_type": "stream",
     "text": [
      "test_2_plus_2_is_4 (__main__.mytest) ... ok\n",
      "test_2_plus_2_is_5 (__main__.mytest) ... FAIL\n",
      "\n",
      "======================================================================\n",
      "FAIL: test_2_plus_2_is_5 (__main__.mytest)\n",
      "----------------------------------------------------------------------\n",
      "Traceback (most recent call last):\n",
      "  File \"<ipython-input-1-f1c0cee123f4>\", line 6, in test_2_plus_2_is_5\n",
      "    self.assertEqual(2+2,5)\n",
      "AssertionError: 4 != 5\n",
      "\n",
      "----------------------------------------------------------------------\n",
      "Ran 2 tests in 0.002s\n",
      "\n",
      "FAILED (failures=1)\n"
     ]
    },
    {
     "data": {
      "text/plain": [
       "<unittest.main.TestProgram at 0x7fe0b17c5910>"
      ]
     },
     "execution_count": 1,
     "metadata": {},
     "output_type": "execute_result"
    }
   ],
   "source": [
    "import unittest\n",
    "\n",
    "class mytest(unittest.TestCase):\n",
    "    \n",
    "    def test_2_plus_2_is_5(self):\n",
    "        self.assertEqual(2+2,5)\n",
    "    \n",
    "    def test_2_plus_2_is_4(self):\n",
    "        self.assertEqual(2+2,4)\n",
    "        \n",
    "unittest.main(argv=['ignored', '-v'], exit=False)"
   ]
  },
  {
   "cell_type": "code",
   "execution_count": 2,
   "metadata": {},
   "outputs": [],
   "source": [
    "?unittest.TestCase.assertEqual"
   ]
  },
  {
   "cell_type": "code",
   "execution_count": null,
   "metadata": {},
   "outputs": [],
   "source": []
  }
 ],
 "metadata": {
  "kernelspec": {
   "display_name": "Python 3",
   "language": "python",
   "name": "python3"
  },
  "language_info": {
   "codemirror_mode": {
    "name": "ipython",
    "version": 3
   },
   "file_extension": ".py",
   "mimetype": "text/x-python",
   "name": "python",
   "nbconvert_exporter": "python",
   "pygments_lexer": "ipython3",
   "version": "3.8.5"
  }
 },
 "nbformat": 4,
 "nbformat_minor": 4
}
