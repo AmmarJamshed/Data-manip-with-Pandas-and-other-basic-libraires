{
 "cells": [
  {
   "cell_type": "markdown",
   "metadata": {},
   "source": [
    "### Import Libraries"
   ]
  },
  {
   "cell_type": "code",
   "execution_count": null,
   "metadata": {},
   "outputs": [],
   "source": [
    "import numpy as np\n",
    "import pandas as pd\n",
    "import matplotlib.pyplot as plt\n",
    "from scipy.optimize import curve_fit\n",
    "from scipy.stats import linregress \n",
    "from sklearn.linear_model import LinearRegression\n",
    "from sklearn.model_selection import train_test_split\n",
    "import statsmodels.api as sm"
   ]
  },
  {
   "cell_type": "markdown",
   "metadata": {},
   "source": [
    "### Simple Data for Simple Linear Regression"
   ]
  },
  {
   "cell_type": "code",
   "execution_count": null,
   "metadata": {},
   "outputs": [],
   "source": [
    "# Independent variable\n",
    "x = np.array([210,290,250,500,310,430,455,380,535,510])\n",
    "# Dependent variable\n",
    "y = np.array([5,7,6,13,8,11,12,10,15,14])\n"
   ]
  },
  {
   "cell_type": "markdown",
   "metadata": {},
   "source": [
    "### Plot Data"
   ]
  },
  {
   "cell_type": "code",
   "execution_count": null,
   "metadata": {},
   "outputs": [],
   "source": [
    "#Plot the data along\n",
    "plt.figure(figsize=(6,6), dpi=100)\n",
    "plt.plot(x, y, 'o', label='original data')\n",
    "plt.xlabel('Distance in KM') # X axis data label\n",
    "plt.ylabel('Delivery Time in Days') # Y axis data label\n",
    "plt.legend()\n",
    "plt.show()"
   ]
  },
  {
   "cell_type": "code",
   "execution_count": null,
   "metadata": {},
   "outputs": [],
   "source": [
    "# Means of indep and dep variables\n",
    "xbar = np.mean(x)\n",
    "ybar = np.mean(y)\n",
    "# Apply equations to find b and a\n",
    "b = np.sum((x - xbar)*(y - ybar)) / np.sum((x - xbar)**2)\n",
    "a = ybar - b * xbar\n",
    "# Plug in the values of the dep variable into the line equation to obtain yhat\n",
    "yhat = a + b * x\n",
    "\n",
    "# Compute the error (i.e. residuals)\n",
    "error = y - yhat\n",
    "\n",
    "# Compute metrics\n",
    "SE = error**2 # squared error\n",
    "MSE = np.mean(SE) # mean squared error\n",
    "RMSE = np.sqrt(MSE) # Root Mean Squared Error, RMSE\n",
    "\n",
    "SST = np.sum((y - ybar)**2)\n",
    "SSR = np.sum((yhat - ybar)**2)\n",
    "Rsquared = SSR/SST\n",
    "print('RMSE =',RMSE)\n",
    "print('Rsquared =',Rsquared)\n",
    "# This should give you the same result for Rsquared\n",
    "#Rsquared = 1.0 - (np.var(error) / np.var(y))"
   ]
  },
  {
   "cell_type": "code",
   "execution_count": null,
   "metadata": {},
   "outputs": [],
   "source": [
    "#Plot the data along with the fitted line:\n",
    "plt.figure(figsize=(6,6), dpi=100)\n",
    "plt.plot(x, y, 'o', label='original data')\n",
    "plt.plot(x, yhat, 's', label='predicted data')\n",
    "plt.xlabel('Distance in KM') # X axis data label\n",
    "plt.ylabel('Delivery Time in Days') # Y axis data label\n",
    "plt.legend()\n",
    "plt.show()"
   ]
  },
  {
   "cell_type": "markdown",
   "metadata": {},
   "source": [
    "### Plot original points, fitted line and residuals"
   ]
  },
  {
   "cell_type": "code",
   "execution_count": null,
   "metadata": {},
   "outputs": [],
   "source": [
    "f = plt.figure(figsize=(6,6), dpi=100)\n",
    "axes = f.add_subplot(111)\n",
    "\n",
    "# first the raw data as a scatter plot\n",
    "axes.plot(x, y,  'o')\n",
    "\n",
    "# now the model as a line plot\n",
    "axes.plot(x, yhat)\n",
    "\n",
    "# now add individual line for each point\n",
    "for i in range(len(x)):\n",
    "    lineXdata = (x[i], x[i]) # same X\n",
    "    lineYdata = (y[i], yhat[i]) # different Y\n",
    "    plt.plot(lineXdata, lineYdata)\n",
    "\n",
    "axes.set_xlabel('X Data') # X axis data label\n",
    "axes.set_ylabel('Y Data') # Y axis data label\n",
    "\n",
    "plt.show()"
   ]
  },
  {
   "cell_type": "markdown",
   "metadata": {},
   "source": [
    "### Use existing package to fit model and confirm results"
   ]
  },
  {
   "cell_type": "code",
   "execution_count": null,
   "metadata": {},
   "outputs": [],
   "source": [
    "# function to apply simple linear regression\n",
    "def func(x, b, a):\n",
    "    return a + b*x\n",
    "\n",
    "# curve fit the data\n",
    "fitted_params, pcov = curve_fit(func, x, y)\n",
    "\n",
    "model_predictions = func(x, *fitted_params) \n",
    "\n",
    "absError = model_predictions - y\n",
    "\n",
    "SE = np.square(absError) # squared errors\n",
    "MSE = np.mean(SE) # mean squared errors\n",
    "RMSE = np.sqrt(MSE) # Root Mean Squared Error, RMSE\n",
    "Rsquared = 1.0 - (np.var(absError) / np.var(y))\n",
    "print('RMSE =', RMSE)\n",
    "print('Rsquared=', Rsquared)"
   ]
  },
  {
   "cell_type": "markdown",
   "metadata": {},
   "source": [
    "### Use another existing package to fit model and confirm results"
   ]
  },
  {
   "cell_type": "code",
   "execution_count": null,
   "metadata": {},
   "outputs": [],
   "source": [
    "slope, intercept, r_value, p_value, std_err = linregress(x, y)\n",
    "print(\"slope: %f    intercept: %f\" % (slope, intercept))\n",
    "print(\"p-value: \", p_value/2)\n",
    "#To get coefficient of determination (R-squared):\n",
    "print(\"Rsquared: %f\" % r_value**2)\n",
    "\n",
    "\n",
    "#Plot the data along with the fitted line:\n",
    "plt.figure(figsize=(6,6), dpi=100)\n",
    "plt.plot(x, y, 'o', label='original data')\n",
    "plt.plot(x, intercept + slope*x, 'r', label='fitted line')\n",
    "plt.xlabel('Distance in KM') # X axis data label\n",
    "plt.ylabel('Delivery Time in Days') # Y axis data label\n",
    "plt.legend()\n",
    "plt.show()"
   ]
  },
  {
   "cell_type": "markdown",
   "metadata": {},
   "source": [
    "## Multiple Linear Regression\n",
    "\n",
    "1. We would like to investigate the pasture rent structure with respect to the grass variety over\n",
    "   various districts in Minnesota. The data set “pasture-data.csv” provides 67 rows of data.\n",
    "2. The data columns include:\n",
    "    - I, index\n",
    "    - X1, the rent per arable acre (dollars)\n",
    "    - X2, the number of milk cows per square mile\n",
    "    - X3, the difference between pasturage and arable land\n",
    "    - Y, the rental price per acre for this variety of grass (dollars)\n",
    "3. We seek a model of the form:\n",
    "      Y = B0 + B1 * X1 + B2 * X2 + B3 * X3"
   ]
  },
  {
   "cell_type": "code",
   "execution_count": null,
   "metadata": {},
   "outputs": [],
   "source": [
    "# load the data\n",
    "data = pd.read_csv(\"pasture-data.csv\")"
   ]
  },
  {
   "cell_type": "code",
   "execution_count": null,
   "metadata": {},
   "outputs": [],
   "source": [
    "data"
   ]
  },
  {
   "cell_type": "code",
   "execution_count": null,
   "metadata": {},
   "outputs": [],
   "source": [
    "# get x data .. only features, no index and outcome variables\n",
    "X = data.iloc[:,1:-1]\n",
    "\n",
    "# this is the outcome variable\n",
    "y = data.iloc[:,-1]\n",
    "\n",
    "# Create the train and test data\n",
    "X_train, X_test, y_train, y_test = train_test_split(X, y, test_size=0.5)\n",
    "\n",
    "\n",
    "# Create linear regression object\n",
    "regr = LinearRegression()\n",
    "\n",
    "# Train the model using the training sets\n",
    "regr.fit(X_train, y_train)\n",
    "\n",
    "# Make predictions using the testing set\n",
    "y_pred = regr.predict(X_test)\n",
    "\n",
    "# Compute residuals\n",
    "residuals = (y_test - y_pred)\n"
   ]
  },
  {
   "cell_type": "markdown",
   "metadata": {},
   "source": [
    "### Plot residuals "
   ]
  },
  {
   "cell_type": "code",
   "execution_count": null,
   "metadata": {},
   "outputs": [],
   "source": [
    "# Plot residuals\n",
    "plt.scatter(range(len(residuals)),residuals)\n",
    "plt.axhline(y=0, color='r', linestyle='-')\n",
    "plt.show()"
   ]
  },
  {
   "cell_type": "code",
   "execution_count": null,
   "metadata": {},
   "outputs": [],
   "source": [
    "# Plot residuals\n",
    "plt.hist(residuals)\n",
    "plt.show()"
   ]
  },
  {
   "cell_type": "markdown",
   "metadata": {},
   "source": [
    "### Obtain details of significance tests and CIs"
   ]
  },
  {
   "cell_type": "code",
   "execution_count": null,
   "metadata": {},
   "outputs": [],
   "source": [
    "mod = sm.OLS(y,X)\n",
    "model = mod.fit()\n",
    "model.summary2()"
   ]
  },
  {
   "cell_type": "code",
   "execution_count": null,
   "metadata": {},
   "outputs": [],
   "source": []
  }
 ],
 "metadata": {
  "kernelspec": {
   "display_name": "Python 3",
   "language": "python",
   "name": "python3"
  },
  "language_info": {
   "codemirror_mode": {
    "name": "ipython",
    "version": 3
   },
   "file_extension": ".py",
   "mimetype": "text/x-python",
   "name": "python",
   "nbconvert_exporter": "python",
   "pygments_lexer": "ipython3",
   "version": "3.7.6"
  }
 },
 "nbformat": 4,
 "nbformat_minor": 4
}
