{
  "nbformat": 4,
  "nbformat_minor": 0,
  "metadata": {
    "colab": {
      "name": "error detector function.ipynb",
      "provenance": []
    },
    "kernelspec": {
      "name": "python3",
      "display_name": "Python 3"
    },
    "language_info": {
      "name": "python"
    }
  },
  "cells": [
    {
      "cell_type": "code",
      "execution_count": 31,
      "metadata": {
        "id": "fvvZVOc0qEPn"
      },
      "outputs": [],
      "source": [
        "def accurate(x):\n",
        "  if x is \"Null\":\n",
        "    return \"Incorrect values detected\"\n",
        "  elif x > 0:\n",
        "    return \"usable\"\n",
        "  else:\n",
        "    return \"Fuck off Mother fucker\""
      ]
    },
    {
      "cell_type": "code",
      "source": [
        "accurate(-1)"
      ],
      "metadata": {
        "colab": {
          "base_uri": "https://localhost:8080/",
          "height": 35
        },
        "id": "d_W-zNMLqpJS",
        "outputId": "755c3a26-d079-459e-f4e5-723a90828569"
      },
      "execution_count": 32,
      "outputs": [
        {
          "output_type": "execute_result",
          "data": {
            "application/vnd.google.colaboratory.intrinsic+json": {
              "type": "string"
            },
            "text/plain": [
              "'Fuck off Mother fucker'"
            ]
          },
          "metadata": {},
          "execution_count": 32
        }
      ]
    },
    {
      "cell_type": "code",
      "source": [
        "accurate(1)"
      ],
      "metadata": {
        "colab": {
          "base_uri": "https://localhost:8080/",
          "height": 35
        },
        "id": "zReFaKinrPOP",
        "outputId": "541b119f-f3eb-43a4-d293-b8bf5dcdbc5c"
      },
      "execution_count": 33,
      "outputs": [
        {
          "output_type": "execute_result",
          "data": {
            "application/vnd.google.colaboratory.intrinsic+json": {
              "type": "string"
            },
            "text/plain": [
              "'usable'"
            ]
          },
          "metadata": {},
          "execution_count": 33
        }
      ]
    },
    {
      "cell_type": "code",
      "source": [
        "accurate('Null')"
      ],
      "metadata": {
        "colab": {
          "base_uri": "https://localhost:8080/",
          "height": 35
        },
        "id": "9xBfny2Ns7_P",
        "outputId": "3e1a35a3-bf38-426b-830a-d9025b2a5a58"
      },
      "execution_count": 35,
      "outputs": [
        {
          "output_type": "execute_result",
          "data": {
            "application/vnd.google.colaboratory.intrinsic+json": {
              "type": "string"
            },
            "text/plain": [
              "'Incorrect values detected'"
            ]
          },
          "metadata": {},
          "execution_count": 35
        }
      ]
    },
    {
      "cell_type": "code",
      "source": [
        ""
      ],
      "metadata": {
        "id": "dMT0Yt_Atcu9"
      },
      "execution_count": null,
      "outputs": []
    }
  ]
}