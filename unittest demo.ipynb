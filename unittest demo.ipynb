{
 "cells": [
  {
   "cell_type": "code",
   "execution_count": 5,
   "id": "frozen-hampshire",
   "metadata": {},
   "outputs": [
    {
     "name": "stderr",
     "output_type": "stream",
     "text": [
      "test_func_exists (__main__.MyTestSet) ... ok\n",
      "test_highest_at_either (__main__.MyTestSet) ... ok\n",
      "test_highest_at_end (__main__.MyTestSet) ... ok\n",
      "test_highest_at_start (__main__.MyTestSet) ... ok\n",
      "test_ret (__main__.MyTestSet) ... ok\n",
      "test_ret_4 (__main__.MyTestSet) ... ok\n",
      "test_ret_4_mid (__main__.MyTestSet) ... ok\n",
      "test_ret_5 (__main__.MyTestSet) ... ok\n",
      "test_str (__main__.MyTestSet) ... ok\n",
      "test_updown (__main__.MyTestSet) ... ok\n",
      "\n",
      "----------------------------------------------------------------------\n",
      "Ran 10 tests in 0.044s\n",
      "\n",
      "OK\n"
     ]
    },
    {
     "data": {
      "text/plain": [
       "<unittest.main.TestProgram at 0x7f31f4709700>"
      ]
     },
     "execution_count": 5,
     "metadata": {},
     "output_type": "execute_result"
    }
   ],
   "source": [
    "import unittest\n",
    "\n",
    "\n",
    "def get_highest(input):\n",
    "    for val in input:\n",
    "        if type(val) is not float and type(val) is not int:\n",
    "            return None\n",
    "    \n",
    "    max_val = input[0]\n",
    "    for val in input:\n",
    "        if val > max_val:\n",
    "            max_val = val\n",
    "            \n",
    "    return max_val\n",
    "\n",
    "\n",
    "class MyTestSet(unittest.TestCase):\n",
    "    \n",
    "    def test_func_exists(self):\n",
    "        self.assertIsNotNone(get_highest)\n",
    "    \n",
    "    def test_ret(self):\n",
    "        self.assertIsNotNone(get_highest([0]))\n",
    "    \n",
    "    def test_ret_4(self):\n",
    "        self.assertEqual(4, get_highest([1,2,3,4]))\n",
    "    \n",
    "    def test_ret_5(self):\n",
    "        self.assertEqual(5, get_highest([1,2,3,5]))\n",
    "    \n",
    "    def test_ret_4_mid(self):\n",
    "        self.assertEqual(4, get_highest([1,2,4,0]))\n",
    "    \n",
    "    def test_str(self):\n",
    "        input = [1, 2, \"hello\", [\"whoa\"]]\n",
    "        self.assertIsNone(get_highest(input))\n",
    "\n",
    "    def test_highest_at_end(self):\n",
    "        self.assertEqual(100, get_highest([1,2,4,100]))\n",
    "        \n",
    "    def test_highest_at_start(self):\n",
    "        self.assertEqual(100, get_highest([100,2,4,99]))\n",
    "    \n",
    "    def test_highest_at_either(self):\n",
    "        self.assertEqual(100, get_highest([100,2,4,100]))\n",
    "     \n",
    "    def test_updown(self):\n",
    "        self.assertEqual(5, get_highest([1,2,2,4,1,5]))\n",
    "    \n",
    "    \n",
    "    \n",
    "    \n",
    "        \n",
    "        \n",
    "\n",
    "unittest.main(argv=['ingored', '-v'], exit=False)\n",
    "\n"
   ]
  },
  {
   "cell_type": "code",
   "execution_count": 28,
   "id": "wrapped-series",
   "metadata": {},
   "outputs": [
    {
     "name": "stdout",
     "output_type": "stream",
     "text": [
      "The assertion failed. \n",
      "Checked if x was 10. It was not\n",
      "At end of program\n"
     ]
    }
   ],
   "source": [
    "\n",
    "\n",
    "x = 9\n",
    "\n",
    "try:\n",
    "    assert x == 10, \"Checked if x was 10. It was not\"\n",
    "except AssertionError as e:\n",
    "    print(\"The assertion failed. \")\n",
    "    print(e)\n",
    "\n",
    "\n",
    "print(\"At end of program\")\n"
   ]
  }
 ],
 "metadata": {
  "kernelspec": {
   "display_name": "Python 3",
   "language": "python",
   "name": "python3"
  },
  "language_info": {
   "codemirror_mode": {
    "name": "ipython",
    "version": 3
   },
   "file_extension": ".py",
   "mimetype": "text/x-python",
   "name": "python",
   "nbconvert_exporter": "python",
   "pygments_lexer": "ipython3",
   "version": "3.8.6"
  }
 },
 "nbformat": 4,
 "nbformat_minor": 5
}
